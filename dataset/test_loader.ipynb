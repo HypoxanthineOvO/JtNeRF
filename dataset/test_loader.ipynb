{
 "cells": [
  {
   "cell_type": "code",
   "execution_count": 1,
   "metadata": {},
   "outputs": [],
   "source": [
    "import jittor as jt\n",
    "import numpy as np\n",
    "import os\n",
    "from NeRF_dataset import NeRFDataset"
   ]
  },
  {
   "cell_type": "code",
   "execution_count": 2,
   "metadata": {},
   "outputs": [],
   "source": [
    "path = 'c:\\\\Users\\\\Hypoxanthine\\\\Desktop\\\\Jittor\\\\jittor-nerf-framework\\\\data\\\\tiny_nerf_data.npz'"
   ]
  },
  {
   "cell_type": "code",
   "execution_count": 3,
   "metadata": {},
   "outputs": [],
   "source": [
    "nerfdata = NeRFDataset('npz',path,batch_size=1)"
   ]
  },
  {
   "cell_type": "code",
   "execution_count": 5,
   "metadata": {},
   "outputs": [
    {
     "data": {
      "text/plain": [
       "(array([1]),\n",
       " jt.Var([[[[0. 0. 0.]\n",
       "           [0. 0. 0.]\n",
       "           [0. 0. 0.]\n",
       "           ...\n",
       "           [0. 0. 0.]\n",
       "           [0. 0. 0.]\n",
       "           [0. 0. 0.]]\n",
       "        \n",
       "          [[0. 0. 0.]\n",
       "           [0. 0. 0.]\n",
       "           [0. 0. 0.]\n",
       "           ...\n",
       "           [0. 0. 0.]\n",
       "           [0. 0. 0.]\n",
       "           [0. 0. 0.]]\n",
       "        \n",
       "          [[0. 0. 0.]\n",
       "           [0. 0. 0.]\n",
       "           [0. 0. 0.]\n",
       "           ...\n",
       "           [0. 0. 0.]\n",
       "           [0. 0. 0.]\n",
       "           [0. 0. 0.]]\n",
       "        \n",
       "          ...\n",
       "        \n",
       "          [[0. 0. 0.]\n",
       "           [0. 0. 0.]\n",
       "           [0. 0. 0.]\n",
       "           ...\n",
       "           [0. 0. 0.]\n",
       "           [0. 0. 0.]\n",
       "           [0. 0. 0.]]\n",
       "        \n",
       "          [[0. 0. 0.]\n",
       "           [0. 0. 0.]\n",
       "           [0. 0. 0.]\n",
       "           ...\n",
       "           [0. 0. 0.]\n",
       "           [0. 0. 0.]\n",
       "           [0. 0. 0.]]\n",
       "        \n",
       "          [[0. 0. 0.]\n",
       "           [0. 0. 0.]\n",
       "           [0. 0. 0.]\n",
       "           ...\n",
       "           [0. 0. 0.]\n",
       "           [0. 0. 0.]\n",
       "           [0. 0. 0.]]]], dtype=float32),\n",
       " jt.Var([[[[0. 0. 0.]\n",
       "           [0. 0. 0.]\n",
       "           [0. 0. 0.]\n",
       "           ...\n",
       "           [0. 0. 0.]\n",
       "           [0. 0. 0.]\n",
       "           [0. 0. 0.]]\n",
       "        \n",
       "          [[0. 0. 0.]\n",
       "           [0. 0. 0.]\n",
       "           [0. 0. 0.]\n",
       "           ...\n",
       "           [0. 0. 0.]\n",
       "           [0. 0. 0.]\n",
       "           [0. 0. 0.]]\n",
       "        \n",
       "          [[0. 0. 0.]\n",
       "           [0. 0. 0.]\n",
       "           [0. 0. 0.]\n",
       "           ...\n",
       "           [0. 0. 0.]\n",
       "           [0. 0. 0.]\n",
       "           [0. 0. 0.]]\n",
       "        \n",
       "          ...\n",
       "        \n",
       "          [[0. 0. 0.]\n",
       "           [0. 0. 0.]\n",
       "           [0. 0. 0.]\n",
       "           ...\n",
       "           [0. 0. 0.]\n",
       "           [0. 0. 0.]\n",
       "           [0. 0. 0.]]\n",
       "        \n",
       "          [[0. 0. 0.]\n",
       "           [0. 0. 0.]\n",
       "           [0. 0. 0.]\n",
       "           ...\n",
       "           [0. 0. 0.]\n",
       "           [0. 0. 0.]\n",
       "           [0. 0. 0.]]\n",
       "        \n",
       "          [[0. 0. 0.]\n",
       "           [0. 0. 0.]\n",
       "           [0. 0. 0.]\n",
       "           ...\n",
       "           [0. 0. 0.]\n",
       "           [0. 0. 0.]\n",
       "           [0. 0. 0.]]]], dtype=float32))"
      ]
     },
     "execution_count": 5,
     "metadata": {},
     "output_type": "execute_result"
    }
   ],
   "source": [
    "next(nerfdata)"
   ]
  }
 ],
 "metadata": {
  "kernelspec": {
   "display_name": "Python 3.8.13 ('jittor')",
   "language": "python",
   "name": "python3"
  },
  "language_info": {
   "codemirror_mode": {
    "name": "ipython",
    "version": 3
   },
   "file_extension": ".py",
   "mimetype": "text/x-python",
   "name": "python",
   "nbconvert_exporter": "python",
   "pygments_lexer": "ipython3",
   "version": "3.8.13"
  },
  "orig_nbformat": 4,
  "vscode": {
   "interpreter": {
    "hash": "1f3104ca27be1ce7e20af0ee31a0bd7e0d643f5584e3ba1234c8ac64b4554950"
   }
  }
 },
 "nbformat": 4,
 "nbformat_minor": 2
}
