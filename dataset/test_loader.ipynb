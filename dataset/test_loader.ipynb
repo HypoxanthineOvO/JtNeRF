{
 "cells": [
  {
   "cell_type": "code",
   "execution_count": 1,
   "metadata": {},
   "outputs": [],
   "source": [
    "import os"
   ]
  },
  {
   "cell_type": "code",
   "execution_count": 9,
   "metadata": {},
   "outputs": [
    {
     "name": "stdout",
     "output_type": "stream",
     "text": [
      "Root:  C:\\Users\\Hypoxanthine\\Desktop\\Jittor\\jittor-nerf-framework <class 'str'>\n",
      "Dir:  C:\\Users\\Hypoxanthine\\Desktop\\Jittor\\jittor-nerf-framework <class 'str'>\n",
      "Files:  ['main.py', 'README.md', 'testimage.png', 'test_losser.ipynb'] <class 'list'>\n",
      "\n",
      "Root:  C:\\Users\\Hypoxanthine\\Desktop\\Jittor\\jittor-nerf-framework\\.git <class 'str'>\n",
      "Dir:  C:\\Users\\Hypoxanthine\\Desktop\\Jittor\\jittor-nerf-framework <class 'str'>\n",
      "Files:  ['COMMIT_EDITMSG', 'config', 'description', 'HEAD', 'index', 'packed-refs'] <class 'list'>\n",
      "\n",
      "Root:  C:\\Users\\Hypoxanthine\\Desktop\\Jittor\\jittor-nerf-framework\\.git\\hooks <class 'str'>\n",
      "Dir:  C:\\Users\\Hypoxanthine\\Desktop\\Jittor\\jittor-nerf-framework <class 'str'>\n",
      "Files:  ['applypatch-msg.sample', 'commit-msg.sample', 'fsmonitor-watchman.sample', 'post-update.sample', 'pre-applypatch.sample', 'pre-commit.sample', 'pre-merge-commit.sample', 'pre-push.sample', 'pre-rebase.sample', 'pre-receive.sample', 'prepare-commit-msg.sample', 'push-to-checkout.sample', 'update.sample'] <class 'list'>\n",
      "\n",
      "Root:  C:\\Users\\Hypoxanthine\\Desktop\\Jittor\\jittor-nerf-framework\\.git\\info <class 'str'>\n",
      "Dir:  C:\\Users\\Hypoxanthine\\Desktop\\Jittor\\jittor-nerf-framework <class 'str'>\n",
      "Files:  ['exclude'] <class 'list'>\n",
      "\n",
      "Root:  C:\\Users\\Hypoxanthine\\Desktop\\Jittor\\jittor-nerf-framework\\.git\\logs <class 'str'>\n",
      "Dir:  C:\\Users\\Hypoxanthine\\Desktop\\Jittor\\jittor-nerf-framework <class 'str'>\n",
      "Files:  ['HEAD'] <class 'list'>\n",
      "\n",
      "Root:  C:\\Users\\Hypoxanthine\\Desktop\\Jittor\\jittor-nerf-framework\\.git\\logs\\refs <class 'str'>\n",
      "Dir:  C:\\Users\\Hypoxanthine\\Desktop\\Jittor\\jittor-nerf-framework <class 'str'>\n",
      "Files:  [] <class 'list'>\n",
      "\n",
      "Root:  C:\\Users\\Hypoxanthine\\Desktop\\Jittor\\jittor-nerf-framework\\.git\\logs\\refs\\heads <class 'str'>\n",
      "Dir:  C:\\Users\\Hypoxanthine\\Desktop\\Jittor\\jittor-nerf-framework <class 'str'>\n",
      "Files:  ['main'] <class 'list'>\n",
      "\n",
      "Root:  C:\\Users\\Hypoxanthine\\Desktop\\Jittor\\jittor-nerf-framework\\.git\\logs\\refs\\remotes <class 'str'>\n",
      "Dir:  C:\\Users\\Hypoxanthine\\Desktop\\Jittor\\jittor-nerf-framework <class 'str'>\n",
      "Files:  [] <class 'list'>\n",
      "\n",
      "Root:  C:\\Users\\Hypoxanthine\\Desktop\\Jittor\\jittor-nerf-framework\\.git\\logs\\refs\\remotes\\origin <class 'str'>\n",
      "Dir:  C:\\Users\\Hypoxanthine\\Desktop\\Jittor\\jittor-nerf-framework <class 'str'>\n",
      "Files:  ['HEAD', 'main'] <class 'list'>\n",
      "\n",
      "Root:  C:\\Users\\Hypoxanthine\\Desktop\\Jittor\\jittor-nerf-framework\\.git\\objects <class 'str'>\n",
      "Dir:  C:\\Users\\Hypoxanthine\\Desktop\\Jittor\\jittor-nerf-framework <class 'str'>\n",
      "Files:  [] <class 'list'>\n",
      "\n",
      "Root:  C:\\Users\\Hypoxanthine\\Desktop\\Jittor\\jittor-nerf-framework\\.git\\objects\\02 <class 'str'>\n",
      "Dir:  C:\\Users\\Hypoxanthine\\Desktop\\Jittor\\jittor-nerf-framework <class 'str'>\n",
      "Files:  ['4a02000810ce307e02645ad3f9b1063ce0d84f'] <class 'list'>\n",
      "\n",
      "Root:  C:\\Users\\Hypoxanthine\\Desktop\\Jittor\\jittor-nerf-framework\\.git\\objects\\0d <class 'str'>\n",
      "Dir:  C:\\Users\\Hypoxanthine\\Desktop\\Jittor\\jittor-nerf-framework <class 'str'>\n",
      "Files:  ['eb0cf050339b3c7b2a5a8a6a41b89c9f107fdd'] <class 'list'>\n",
      "\n",
      "Root:  C:\\Users\\Hypoxanthine\\Desktop\\Jittor\\jittor-nerf-framework\\.git\\objects\\19 <class 'str'>\n",
      "Dir:  C:\\Users\\Hypoxanthine\\Desktop\\Jittor\\jittor-nerf-framework <class 'str'>\n",
      "Files:  ['b78b1305b4a7b94dc399617a86823d44bdd0aa'] <class 'list'>\n",
      "\n",
      "Root:  C:\\Users\\Hypoxanthine\\Desktop\\Jittor\\jittor-nerf-framework\\.git\\objects\\26 <class 'str'>\n",
      "Dir:  C:\\Users\\Hypoxanthine\\Desktop\\Jittor\\jittor-nerf-framework <class 'str'>\n",
      "Files:  ['b648eb9c79798e3be6bbc0554d7071c56deb0c'] <class 'list'>\n",
      "\n",
      "Root:  C:\\Users\\Hypoxanthine\\Desktop\\Jittor\\jittor-nerf-framework\\.git\\objects\\28 <class 'str'>\n",
      "Dir:  C:\\Users\\Hypoxanthine\\Desktop\\Jittor\\jittor-nerf-framework <class 'str'>\n",
      "Files:  ['90bbecc67a4519b7b959a631b7d60d3e7f4dfc', 'd5b48bec5304345d52a4865bebc7395239a52f'] <class 'list'>\n",
      "\n",
      "Root:  C:\\Users\\Hypoxanthine\\Desktop\\Jittor\\jittor-nerf-framework\\.git\\objects\\5c <class 'str'>\n",
      "Dir:  C:\\Users\\Hypoxanthine\\Desktop\\Jittor\\jittor-nerf-framework <class 'str'>\n",
      "Files:  ['4ddab47d8fee9a0a04eb1139fd0df253c05bab'] <class 'list'>\n",
      "\n",
      "Root:  C:\\Users\\Hypoxanthine\\Desktop\\Jittor\\jittor-nerf-framework\\.git\\objects\\5e <class 'str'>\n",
      "Dir:  C:\\Users\\Hypoxanthine\\Desktop\\Jittor\\jittor-nerf-framework <class 'str'>\n",
      "Files:  ['26fdb84a460dc50cbc9d199f9c4e85362eec6a'] <class 'list'>\n",
      "\n",
      "Root:  C:\\Users\\Hypoxanthine\\Desktop\\Jittor\\jittor-nerf-framework\\.git\\objects\\72 <class 'str'>\n",
      "Dir:  C:\\Users\\Hypoxanthine\\Desktop\\Jittor\\jittor-nerf-framework <class 'str'>\n",
      "Files:  ['d63dee85424afc0067a704bd69df9a4670965f'] <class 'list'>\n",
      "\n",
      "Root:  C:\\Users\\Hypoxanthine\\Desktop\\Jittor\\jittor-nerf-framework\\.git\\objects\\88 <class 'str'>\n",
      "Dir:  C:\\Users\\Hypoxanthine\\Desktop\\Jittor\\jittor-nerf-framework <class 'str'>\n",
      "Files:  ['16129a5f246c559e26b5ca518f4239512847d2'] <class 'list'>\n",
      "\n",
      "Root:  C:\\Users\\Hypoxanthine\\Desktop\\Jittor\\jittor-nerf-framework\\.git\\objects\\89 <class 'str'>\n",
      "Dir:  C:\\Users\\Hypoxanthine\\Desktop\\Jittor\\jittor-nerf-framework <class 'str'>\n",
      "Files:  ['b9bb89e64466024c739fa57a594596bed58463'] <class 'list'>\n",
      "\n",
      "Root:  C:\\Users\\Hypoxanthine\\Desktop\\Jittor\\jittor-nerf-framework\\.git\\objects\\8c <class 'str'>\n",
      "Dir:  C:\\Users\\Hypoxanthine\\Desktop\\Jittor\\jittor-nerf-framework <class 'str'>\n",
      "Files:  ['63fae316da8eb139eea3073ceffca61611841b'] <class 'list'>\n",
      "\n",
      "Root:  C:\\Users\\Hypoxanthine\\Desktop\\Jittor\\jittor-nerf-framework\\.git\\objects\\a2 <class 'str'>\n",
      "Dir:  C:\\Users\\Hypoxanthine\\Desktop\\Jittor\\jittor-nerf-framework <class 'str'>\n",
      "Files:  ['1876c0b21916eb302dc80faa6c500cbbebb8a2'] <class 'list'>\n",
      "\n",
      "Root:  C:\\Users\\Hypoxanthine\\Desktop\\Jittor\\jittor-nerf-framework\\.git\\objects\\bf <class 'str'>\n",
      "Dir:  C:\\Users\\Hypoxanthine\\Desktop\\Jittor\\jittor-nerf-framework <class 'str'>\n",
      "Files:  ['64315d4076e8ed88557ee09348a5316da3c9c8'] <class 'list'>\n",
      "\n",
      "Root:  C:\\Users\\Hypoxanthine\\Desktop\\Jittor\\jittor-nerf-framework\\.git\\objects\\c0 <class 'str'>\n",
      "Dir:  C:\\Users\\Hypoxanthine\\Desktop\\Jittor\\jittor-nerf-framework <class 'str'>\n",
      "Files:  ['b1bc62ecfa2b4f210f6f54ae210825c69da1c7'] <class 'list'>\n",
      "\n",
      "Root:  C:\\Users\\Hypoxanthine\\Desktop\\Jittor\\jittor-nerf-framework\\.git\\objects\\d8 <class 'str'>\n",
      "Dir:  C:\\Users\\Hypoxanthine\\Desktop\\Jittor\\jittor-nerf-framework <class 'str'>\n",
      "Files:  ['4e2227107e109aa243819ada2c5d56589be0b0'] <class 'list'>\n",
      "\n",
      "Root:  C:\\Users\\Hypoxanthine\\Desktop\\Jittor\\jittor-nerf-framework\\.git\\objects\\e2 <class 'str'>\n",
      "Dir:  C:\\Users\\Hypoxanthine\\Desktop\\Jittor\\jittor-nerf-framework <class 'str'>\n",
      "Files:  ['ea877bfa9fc0e0156303d6e71d1e7abded33fc'] <class 'list'>\n",
      "\n",
      "Root:  C:\\Users\\Hypoxanthine\\Desktop\\Jittor\\jittor-nerf-framework\\.git\\objects\\e6 <class 'str'>\n",
      "Dir:  C:\\Users\\Hypoxanthine\\Desktop\\Jittor\\jittor-nerf-framework <class 'str'>\n",
      "Files:  ['9de29bb2d1d6434b8b29ae775ad8c2e48c5391'] <class 'list'>\n",
      "\n",
      "Root:  C:\\Users\\Hypoxanthine\\Desktop\\Jittor\\jittor-nerf-framework\\.git\\objects\\fb <class 'str'>\n",
      "Dir:  C:\\Users\\Hypoxanthine\\Desktop\\Jittor\\jittor-nerf-framework <class 'str'>\n",
      "Files:  ['48547fa387314ac6882688903973fcb786a048'] <class 'list'>\n",
      "\n",
      "Root:  C:\\Users\\Hypoxanthine\\Desktop\\Jittor\\jittor-nerf-framework\\.git\\objects\\info <class 'str'>\n",
      "Dir:  C:\\Users\\Hypoxanthine\\Desktop\\Jittor\\jittor-nerf-framework <class 'str'>\n",
      "Files:  [] <class 'list'>\n",
      "\n",
      "Root:  C:\\Users\\Hypoxanthine\\Desktop\\Jittor\\jittor-nerf-framework\\.git\\objects\\pack <class 'str'>\n",
      "Dir:  C:\\Users\\Hypoxanthine\\Desktop\\Jittor\\jittor-nerf-framework <class 'str'>\n",
      "Files:  ['pack-b72f303c488ed7c020a953e2b94061b4e587caaa.idx', 'pack-b72f303c488ed7c020a953e2b94061b4e587caaa.pack'] <class 'list'>\n",
      "\n",
      "Root:  C:\\Users\\Hypoxanthine\\Desktop\\Jittor\\jittor-nerf-framework\\.git\\refs <class 'str'>\n",
      "Dir:  C:\\Users\\Hypoxanthine\\Desktop\\Jittor\\jittor-nerf-framework <class 'str'>\n",
      "Files:  [] <class 'list'>\n",
      "\n",
      "Root:  C:\\Users\\Hypoxanthine\\Desktop\\Jittor\\jittor-nerf-framework\\.git\\refs\\heads <class 'str'>\n",
      "Dir:  C:\\Users\\Hypoxanthine\\Desktop\\Jittor\\jittor-nerf-framework <class 'str'>\n",
      "Files:  ['main'] <class 'list'>\n",
      "\n",
      "Root:  C:\\Users\\Hypoxanthine\\Desktop\\Jittor\\jittor-nerf-framework\\.git\\refs\\remotes <class 'str'>\n",
      "Dir:  C:\\Users\\Hypoxanthine\\Desktop\\Jittor\\jittor-nerf-framework <class 'str'>\n",
      "Files:  [] <class 'list'>\n",
      "\n",
      "Root:  C:\\Users\\Hypoxanthine\\Desktop\\Jittor\\jittor-nerf-framework\\.git\\refs\\remotes\\origin <class 'str'>\n",
      "Dir:  C:\\Users\\Hypoxanthine\\Desktop\\Jittor\\jittor-nerf-framework <class 'str'>\n",
      "Files:  ['HEAD', 'main'] <class 'list'>\n",
      "\n",
      "Root:  C:\\Users\\Hypoxanthine\\Desktop\\Jittor\\jittor-nerf-framework\\.git\\refs\\tags <class 'str'>\n",
      "Dir:  C:\\Users\\Hypoxanthine\\Desktop\\Jittor\\jittor-nerf-framework <class 'str'>\n",
      "Files:  [] <class 'list'>\n",
      "\n",
      "Root:  C:\\Users\\Hypoxanthine\\Desktop\\Jittor\\jittor-nerf-framework\\dataset <class 'str'>\n",
      "Dir:  C:\\Users\\Hypoxanthine\\Desktop\\Jittor\\jittor-nerf-framework <class 'str'>\n",
      "Files:  ['dataset.py', 'data_utils.py', 'test_loader.ipynb'] <class 'list'>\n",
      "\n",
      "Root:  C:\\Users\\Hypoxanthine\\Desktop\\Jittor\\jittor-nerf-framework\\networks <class 'str'>\n",
      "Dir:  C:\\Users\\Hypoxanthine\\Desktop\\Jittor\\jittor-nerf-framework <class 'str'>\n",
      "Files:  ['nerf_net.py', 'ngp_net.py'] <class 'list'>\n",
      "\n",
      "Root:  C:\\Users\\Hypoxanthine\\Desktop\\Jittor\\jittor-nerf-framework\\utils <class 'str'>\n",
      "Dir:  C:\\Users\\Hypoxanthine\\Desktop\\Jittor\\jittor-nerf-framework <class 'str'>\n",
      "Files:  ['losser.py', '__init__.py'] <class 'list'>\n",
      "\n",
      "Root:  C:\\Users\\Hypoxanthine\\Desktop\\Jittor\\jittor-nerf-framework\\utils\\__pycache__ <class 'str'>\n",
      "Dir:  C:\\Users\\Hypoxanthine\\Desktop\\Jittor\\jittor-nerf-framework <class 'str'>\n",
      "Files:  ['losser.cpython-38.pyc', '__init__.cpython-38.pyc'] <class 'list'>\n",
      "\n"
     ]
    }
   ],
   "source": [
    "dir = \"C:\\\\Users\\\\Hypoxanthine\\\\Desktop\\\\Jittor\\\\jittor-nerf-framework\"\n",
    "\n",
    "for root,dirs,files in os.walk(dir):\n",
    "    print(\"Root: \",root,type(root))\n",
    "    print(\"Dir: \",dir,type(dir))\n",
    "    print(\"Files: \",files,type(files))\n",
    "    print(\"\")"
   ]
  },
  {
   "cell_type": "code",
   "execution_count": 10,
   "metadata": {},
   "outputs": [
    {
     "name": "stdout",
     "output_type": "stream",
     "text": [
      "('C:\\\\Users\\\\Hypoxanthine\\\\Desktop\\\\Jittor\\\\jittor-nerf-framework\\\\testimage', '.png')\n"
     ]
    }
   ],
   "source": [
    "print(os.path.splitext(\"C:\\\\Users\\\\Hypoxanthine\\\\Desktop\\\\Jittor\\\\jittor-nerf-framework\\\\testimage.png\"))"
   ]
  },
  {
   "cell_type": "code",
   "execution_count": 43,
   "metadata": {},
   "outputs": [
    {
     "data": {
      "text/plain": [
       "array([[-0.92501402,  0.27488998, -0.26226836, -1.05723763],\n",
       "       [-0.37993318, -0.66926789,  0.63853836,  2.5740304 ],\n",
       "       [ 0.        ,  0.6903013 ,  0.72352195,  2.91661024]])"
      ]
     },
     "execution_count": 43,
     "metadata": {},
     "output_type": "execute_result"
    }
   ],
   "source": [
    "import json\n",
    "mode = \"train\"\n",
    "datas = []\n",
    "\n",
    "testdata = None\n",
    "for root,dirs,files in os.walk(\"../data\"):\n",
    "    # Get .json path\n",
    "    json_paths = []\n",
    "    for file in files:\n",
    "        if os.path.splitext(file)[1] == \".json\":\n",
    "            if(mode in os.path.splitext(file)[0]):\n",
    "                json_paths.append(os.path.join(root,file))\n",
    "                # print(os.path.join(root,file))\n",
    "    # Get frames\n",
    "    json_data = None        \n",
    "    for json_path in json_paths:\n",
    "        with open(json_path,\"r\") as f:\n",
    "            data = json.load(f)\n",
    "        # print(data)\n",
    "        if json_data is None:\n",
    "            json_data = data\n",
    "        if testdata == None:\n",
    "            testdata = data\n",
    "        else:\n",
    "            json_data['frames'] += data['frames']\n",
    "        datas.append(json_data)\n",
    "i = datas[0]['frames'][0]['transform_matrix']\n",
    "import numpy as np\n",
    "j = np.array(i)\n",
    "j[:-1,:]"
   ]
  },
  {
   "cell_type": "code",
   "execution_count": 53,
   "metadata": {},
   "outputs": [
    {
     "data": {
      "text/plain": [
       "0"
      ]
     },
     "execution_count": 53,
     "metadata": {},
     "output_type": "execute_result"
    }
   ],
   "source": [
    "testdata.get('k1',0)"
   ]
  }
 ],
 "metadata": {
  "kernelspec": {
   "display_name": "Python 3.8.13 ('jittor')",
   "language": "python",
   "name": "python3"
  },
  "language_info": {
   "codemirror_mode": {
    "name": "ipython",
    "version": 3
   },
   "file_extension": ".py",
   "mimetype": "text/x-python",
   "name": "python",
   "nbconvert_exporter": "python",
   "pygments_lexer": "ipython3",
   "version": "3.8.13"
  },
  "orig_nbformat": 4,
  "vscode": {
   "interpreter": {
    "hash": "1f3104ca27be1ce7e20af0ee31a0bd7e0d643f5584e3ba1234c8ac64b4554950"
   }
  }
 },
 "nbformat": 4,
 "nbformat_minor": 2
}
