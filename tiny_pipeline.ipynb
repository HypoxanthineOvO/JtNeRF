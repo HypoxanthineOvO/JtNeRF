{
 "cells": [
  {
   "cell_type": "code",
   "execution_count": null,
   "metadata": {},
   "outputs": [],
   "source": [
    "import jittor as jt\n",
    "from jittor import nn\n",
    "import numpy as np\n",
    "import pandas as pd\n",
    "from PIL import Image\n",
    "import cv2 as cv\n",
    "import os\n",
    "import matplotlib.pyplot as plt\n",
    "\n",
    "from dataloaders import NeRFDataset\n",
    "from raymarching import NeRF_RayGen\n",
    "from encoders import PositionalEncoder\n",
    "from networks import NeRF_Net\n",
    "from renders import NeRF_Render\n",
    "from utils import Losser"
   ]
  },
  {
   "cell_type": "code",
   "execution_count": null,
   "metadata": {},
   "outputs": [],
   "source": [
    "lr = 5e-4\n",
    "N_iters = 100\n",
    "batchsize = 2\n",
    "show_iter = N_iters/10\n"
   ]
  },
  {
   "cell_type": "code",
   "execution_count": null,
   "metadata": {},
   "outputs": [],
   "source": [
    "dataloader = NeRFDataset(\n",
    "    data_type='npz',\n",
    "    root_dir= './data/tiny_nerf_data.npz',\n",
    "    batch_size= batchsize\n",
    ")\n",
    "\n",
    "H,W,focal = dataloader.get_para()\n",
    "\n",
    "rays_gen = NeRF_RayGen(H,W,focal)\n",
    "\n",
    "encoder = PositionalEncoder()\n",
    "\n",
    "model = NeRF_Net()\n",
    "\n",
    "render = NeRF_Render(\n",
    "    model,\n",
    "    (2,6),\n",
    "    dataloader.batch_size,\n",
    "    100,\n",
    "    encoder\n",
    ")\n",
    "\n",
    "optimizer = nn.Adam(model.parameters(),lr)\n",
    "\n",
    "losser = Losser()"
   ]
  },
  {
   "cell_type": "code",
   "execution_count": null,
   "metadata": {},
   "outputs": [],
   "source": [
    "def train_one_step():\n",
    "    _,imgs,poses = next(dataloader)\n",
    "\n",
    "    rays_o,rays_d = rays_gen.get_rays(poses)\n",
    "\n",
    "    rays_o,rays_d = jt.split(rays_o,1),jt.split(rays_d,1)\n",
    "    rgbs = jt.condat([render.rendering(rays_o[i],rays_d[i]) for i in range(batchsize)])\n",
    "    loss = jt.mean(jt.sqr(rgbs-imgs))\n",
    "    optimizer.step(loss)\n",
    "    return loss,rgbs,imgs"
   ]
  },
  {
   "cell_type": "code",
   "execution_count": null,
   "metadata": {},
   "outputs": [],
   "source": [
    "for i in range(N_iters):\n",
    "    loss,rgbs,imgs = train_one_step()\n",
    "    if i % show_iter == 0:\n",
    "        plt.subplot(221)\n",
    "        plt.imshow(rgbs[0].numpy())\n",
    "        plt.subplot(222)\n",
    "        plt.imshow(rgbs[1].numpy())\n",
    "        plt.subplot(223)\n",
    "        plt.imshow(imgs[0].numpy())\n",
    "        plt.subplot(224)\n",
    "        plt.imshow(imgs[1].numpy())\n",
    "        \n",
    "        print(f\"\\nLoss = {round(float(loss.numpy()),4)}, PSNR = {round(float(losser.mse2psnr(loss)),2)}\")\n",
    "        "
   ]
  }
 ],
 "metadata": {
  "kernelspec": {
   "display_name": "Python 3.8.13 ('jittor')",
   "language": "python",
   "name": "python3"
  },
  "language_info": {
   "codemirror_mode": {
    "name": "ipython",
    "version": 3
   },
   "file_extension": ".py",
   "mimetype": "text/x-python",
   "name": "python",
   "nbconvert_exporter": "python",
   "pygments_lexer": "ipython3",
   "version": "3.8.13"
  },
  "orig_nbformat": 4,
  "vscode": {
   "interpreter": {
    "hash": "3e8356504af0bcd7109109171899d757f91c17fe7c91b7641c423b434e6e4203"
   }
  }
 },
 "nbformat": 4,
 "nbformat_minor": 2
}
